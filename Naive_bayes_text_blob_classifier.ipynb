{
 "cells": [
  {
   "cell_type": "code",
   "execution_count": 8,
   "id": "036c0c77-e6a3-4a0b-9763-8650972ab062",
   "metadata": {},
   "outputs": [],
   "source": [
    "from textblob.classifiers import NaiveBayesClassifier"
   ]
  },
  {
   "cell_type": "code",
   "execution_count": 9,
   "id": "b16e3fde-1ac9-4f0d-be2d-4848d51a40e9",
   "metadata": {},
   "outputs": [],
   "source": [
    "import pandas as pd\n",
    "import numpy as np\n",
    "import matplotlib.pyplot as plt\n",
    "import csv\n",
    "import random"
   ]
  },
  {
   "cell_type": "code",
   "execution_count": 10,
   "id": "086dc5e0-c561-44ab-a735-c10b4abbcfe1",
   "metadata": {},
   "outputs": [],
   "source": [
    "with open('train.csv', 'r', encoding='latin-1') as f:\n",
    "    reader = csv.reader(f)\n",
    "    next(reader)  #Skip the header\n",
    "    data = [(row[1], row[2]) for row in reader] # Use only the 'Coment' and 'Topic' column\n",
    "# Sample a smaller portion of the data, e.g., 10,000 examples\n",
    "sampled_data = random.sample(data, 4500)\n",
    "cl = NaiveBayesClassifier(sampled_data)"
   ]
  },
  {
   "cell_type": "code",
   "execution_count": 11,
   "id": "66edf46b-8b06-4440-b043-9af11b26fcde",
   "metadata": {},
   "outputs": [
    {
     "name": "stdout",
     "output_type": "stream",
     "text": [
      "0.7698612862547288\n"
     ]
    }
   ],
   "source": [
    "with open('test.csv', 'r', encoding = 'latin-1') as f:\n",
    "    read_test = csv.reader(f)\n",
    "    next(read_test)\n",
    "    data_test = [(row[1], row[2]) for row in read_test]\n",
    "    print(cl.accuracy(data_test))"
   ]
  },
  {
   "cell_type": "code",
   "execution_count": 12,
   "id": "1ab78eaa-2cc1-46da-b384-9082fe60c7b1",
   "metadata": {},
   "outputs": [
    {
     "data": {
      "text/plain": [
       "'Chemistry'"
      ]
     },
     "execution_count": 12,
     "metadata": {},
     "output_type": "execute_result"
    }
   ],
   "source": [
    "text = \"sodium\"\n",
    "cl.classify(text)"
   ]
  },
  {
   "cell_type": "code",
   "execution_count": 13,
   "id": "ef0e2366-d924-43b9-9656-c463eb37421e",
   "metadata": {},
   "outputs": [
    {
     "data": {
      "text/plain": [
       "'Biology'"
      ]
     },
     "execution_count": 13,
     "metadata": {},
     "output_type": "execute_result"
    }
   ],
   "source": [
    "text = \"The infection fatality ratio is the cumulative number of deaths attributed to the disease divided by the cumulative number of infected individuals, including asymptomatic and undiagnosed infections and excluding vaccinated infected individuals. It is expressed in percentage points.\"\n",
    "cl.classify(text)"
   ]
  },
  {
   "cell_type": "code",
   "execution_count": 14,
   "id": "82c51b98-8dfb-41b9-a0ab-81c1c0ecf592",
   "metadata": {},
   "outputs": [
    {
     "data": {
      "text/plain": [
       "'Physics'"
      ]
     },
     "execution_count": 14,
     "metadata": {},
     "output_type": "execute_result"
    }
   ],
   "source": [
    "text = \"Analysis of the byproducts of these collisions gives scientists good evidence of the structure of the subatomic world and the laws of nature governing it. Many of these byproducts are produced only by high-energy collisions, and they decay after very short periods of time. Thus many of them are hard or nearly impossible to study in other ways.\"\n",
    "cl.classify(text)"
   ]
  },
  {
   "cell_type": "code",
   "execution_count": 15,
   "id": "caac6b82-fd9e-4fb8-99ce-68ced093e172",
   "metadata": {},
   "outputs": [
    {
     "data": {
      "text/plain": [
       "'Chemistry'"
      ]
     },
     "execution_count": 15,
     "metadata": {},
     "output_type": "execute_result"
    }
   ],
   "source": [
    "text =\"liquid nitrogen\"\n",
    "cl.classify(text)"
   ]
  },
  {
   "cell_type": "code",
   "execution_count": null,
   "id": "106ea507-ec43-4904-8791-9aa065355f44",
   "metadata": {},
   "outputs": [],
   "source": []
  }
 ],
 "metadata": {
  "kernelspec": {
   "display_name": "Python 3 (ipykernel)",
   "language": "python",
   "name": "python3"
  },
  "language_info": {
   "codemirror_mode": {
    "name": "ipython",
    "version": 3
   },
   "file_extension": ".py",
   "mimetype": "text/x-python",
   "name": "python",
   "nbconvert_exporter": "python",
   "pygments_lexer": "ipython3",
   "version": "3.9.13"
  }
 },
 "nbformat": 4,
 "nbformat_minor": 5
}
